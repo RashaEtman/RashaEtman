{
 "cells": [
  {
   "cell_type": "code",
   "execution_count": 33,
   "metadata": {},
   "outputs": [
    {
     "data": {
      "text/plain": [
       "('Rasha',\n",
       " 'Saloni',\n",
       " 'Alka',\n",
       " 'Mehrnaz',\n",
       " 'Synthia',\n",
       " 'Winnie',\n",
       " 'Rasha',\n",
       " 'Saloni',\n",
       " 'Alka',\n",
       " 'Mehrnaz',\n",
       " 'Synthia',\n",
       " 'WinnieRasha',\n",
       " 'Saloni',\n",
       " 'Alka',\n",
       " 'Mehrnaz',\n",
       " 'Synthia',\n",
       " 'WinnieRasha',\n",
       " 'Saloni',\n",
       " 'Alka',\n",
       " 'Mehrnaz',\n",
       " 'Synthia',\n",
       " 'WinnieRasha',\n",
       " 'Saloni',\n",
       " 'Alka',\n",
       " 'Mehrnaz',\n",
       " 'Synthia',\n",
       " 'WinnieRasha',\n",
       " 'Saloni',\n",
       " 'Alka',\n",
       " 'Mehrnaz',\n",
       " 'Synthia',\n",
       " 'WinnieRasha',\n",
       " 'Saloni',\n",
       " 'Alka',\n",
       " 'Mehrnaz',\n",
       " 'Synthia',\n",
       " 'WinnieRasha',\n",
       " 'Saloni',\n",
       " 'Alka',\n",
       " 'Mehrnaz',\n",
       " 'Synthia',\n",
       " 'WinnieRasha',\n",
       " 'Saloni',\n",
       " 'Alka',\n",
       " 'Mehrnaz',\n",
       " 'Synthia',\n",
       " 'WinnieRasha',\n",
       " 'Saloni',\n",
       " 'Alka',\n",
       " 'Mehrnaz',\n",
       " 'Synthia',\n",
       " 'Winnie')"
      ]
     },
     "execution_count": 33,
     "metadata": {},
     "output_type": "execute_result"
    }
   ],
   "source": [
    "#Q1 Create a tuple with all participant names in the JDA program\n",
    "names=(\"Rasha\",\"Saloni\",\"Alka\",\"Mehrnaz\",\"Synthia\",\"Winnie\",\"Rasha\",\"Saloni\",\"Alka\",\"Mehrnaz\",\"Synthia\",\"Winnie\"\"Rasha\",\"Saloni\",\"Alka\",\"Mehrnaz\",\"Synthia\",\"Winnie\"\"Rasha\",\"Saloni\",\"Alka\",\"Mehrnaz\",\"Synthia\",\"Winnie\"\"Rasha\",\"Saloni\",\"Alka\",\"Mehrnaz\",\"Synthia\",\"Winnie\"\"Rasha\",\"Saloni\",\"Alka\",\"Mehrnaz\",\"Synthia\",\"Winnie\"\"Rasha\",\"Saloni\",\"Alka\",\"Mehrnaz\",\"Synthia\",\"Winnie\"\"Rasha\",\"Saloni\",\"Alka\",\"Mehrnaz\",\"Synthia\",\"Winnie\"\"Rasha\",\"Saloni\",\"Alka\",\"Mehrnaz\",\"Synthia\",\"Winnie\"\"Rasha\",\"Saloni\",\"Alka\",\"Mehrnaz\",\"Synthia\",\"Winnie\")\n",
    "names"
   ]
  },
  {
   "cell_type": "code",
   "execution_count": 10,
   "metadata": {},
   "outputs": [
    {
     "data": {
      "text/plain": [
       "['Rasha',\n",
       " 'Saloni',\n",
       " 'Alka',\n",
       " 'Mehrnaz',\n",
       " 'Synthia',\n",
       " 'Winnie',\n",
       " 'Rasha',\n",
       " 'Saloni',\n",
       " 'Alka',\n",
       " 'Mehrnaz',\n",
       " 'Synthia',\n",
       " 'WinnieRasha',\n",
       " 'Saloni',\n",
       " 'Alka',\n",
       " 'Mehrnaz',\n",
       " 'Synthia',\n",
       " 'WinnieRasha',\n",
       " 'Saloni',\n",
       " 'Alka',\n",
       " 'Mehrnaz',\n",
       " 'Synthia',\n",
       " 'WinnieRasha',\n",
       " 'Saloni',\n",
       " 'Alka',\n",
       " 'Mehrnaz',\n",
       " 'Synthia',\n",
       " 'WinnieRasha',\n",
       " 'Saloni',\n",
       " 'Alka',\n",
       " 'Mehrnaz',\n",
       " 'Synthia',\n",
       " 'WinnieRasha',\n",
       " 'Saloni',\n",
       " 'Alka',\n",
       " 'Mehrnaz',\n",
       " 'Synthia',\n",
       " 'WinnieRasha',\n",
       " 'Saloni',\n",
       " 'Alka',\n",
       " 'Mehrnaz',\n",
       " 'Synthia',\n",
       " 'WinnieRasha',\n",
       " 'Saloni',\n",
       " 'Alka',\n",
       " 'Mehrnaz',\n",
       " 'Synthia',\n",
       " 'WinnieRasha',\n",
       " 'Saloni',\n",
       " 'Alka',\n",
       " 'Mehrnaz',\n",
       " 'Synthia',\n",
       " 'Winnie']"
      ]
     },
     "execution_count": 10,
     "metadata": {},
     "output_type": "execute_result"
    }
   ],
   "source": [
    "#Q2 Convert the tuple into a list called pps_L\n",
    "pps_L=list(names)\n",
    "pps_L"
   ]
  },
  {
   "cell_type": "code",
   "execution_count": 11,
   "metadata": {},
   "outputs": [
    {
     "data": {
      "text/plain": [
       "52"
      ]
     },
     "execution_count": 11,
     "metadata": {},
     "output_type": "execute_result"
    }
   ],
   "source": [
    "#Q3 What is the length of your list \n",
    "len(pps_L)"
   ]
  },
  {
   "cell_type": "code",
   "execution_count": 12,
   "metadata": {},
   "outputs": [
    {
     "name": "stdout",
     "output_type": "stream",
     "text": [
      "Mehrnaz Winnie Mehrnaz Synthia Alka\n"
     ]
    }
   ],
   "source": [
    "#Q4 Find the values stored in indexes [3],[5],[14],[30],[38]\n",
    "print(pps_L[3],pps_L[5],pps_L[14],pps_L[30],pps_L[38])"
   ]
  },
  {
   "cell_type": "code",
   "execution_count": 13,
   "metadata": {},
   "outputs": [
    {
     "data": {
      "text/plain": [
       "False"
      ]
     },
     "execution_count": 13,
     "metadata": {},
     "output_type": "execute_result"
    }
   ],
   "source": [
    "#Q5 Check if \"Sarah\" is in the list\n",
    "\"Sarah\" in pps_L"
   ]
  },
  {
   "cell_type": "code",
   "execution_count": 19,
   "metadata": {},
   "outputs": [
    {
     "data": {
      "text/plain": [
       "['Rasha',\n",
       " 'Saloni',\n",
       " 'Alka',\n",
       " 'Mehrnaz',\n",
       " 'Synthia',\n",
       " 'Winnie',\n",
       " 'Rasha',\n",
       " 'Saloni',\n",
       " 'Alka',\n",
       " 'Mehrnaz',\n",
       " 'Synthia',\n",
       " 'WinnieRasha',\n",
       " 'Saloni',\n",
       " 'Alka',\n",
       " 'Mehrnaz',\n",
       " 'Synthia',\n",
       " 'WinnieRasha',\n",
       " 'Saloni',\n",
       " 'Alka',\n",
       " 'Mehrnaz',\n",
       " 'Synthia',\n",
       " 'WinnieRasha',\n",
       " 'Saloni',\n",
       " 'Alka',\n",
       " 'Mehrnaz',\n",
       " 'Synthia',\n",
       " 'WinnieRasha',\n",
       " 'Saloni',\n",
       " 'Alka',\n",
       " 'Mehrnaz',\n",
       " 'Synthia',\n",
       " 'WinnieRasha',\n",
       " 'Saloni',\n",
       " 'Alka',\n",
       " 'Mehrnaz',\n",
       " 'Synthia',\n",
       " 'WinnieRasha',\n",
       " 'Saloni',\n",
       " 'Alka',\n",
       " 'Mehrnaz',\n",
       " 'Synthia',\n",
       " 'WinnieRasha',\n",
       " 'Saloni',\n",
       " 'Alka',\n",
       " 'Mehrnaz',\n",
       " 'Synthia',\n",
       " 'WinnieRasha',\n",
       " 'Saloni',\n",
       " 'Alka',\n",
       " 'Mehrnaz',\n",
       " 'Synthia',\n",
       " 'Winnie',\n",
       " 'Sarah',\n",
       " 'Sarah']"
      ]
     },
     "execution_count": 19,
     "metadata": {},
     "output_type": "execute_result"
    }
   ],
   "source": [
    "#Q6 Add \"Sarah\" to your list\n",
    "pps_L = pps_L + [\"Sarah\",]\n",
    "pps_L"
   ]
  },
  {
   "cell_type": "code",
   "execution_count": 20,
   "metadata": {},
   "outputs": [
    {
     "data": {
      "text/plain": [
       "False"
      ]
     },
     "execution_count": 20,
     "metadata": {},
     "output_type": "execute_result"
    }
   ],
   "source": [
    "#Q7 Check if \"Bashir\" is in the list\n",
    "\"Bashir\" in pps_L"
   ]
  },
  {
   "cell_type": "code",
   "execution_count": 22,
   "metadata": {},
   "outputs": [
    {
     "data": {
      "text/plain": [
       "['Rasha',\n",
       " 'Saloni',\n",
       " 'Alka',\n",
       " 'Mehrnaz',\n",
       " 'Synthia',\n",
       " 'Winnie',\n",
       " 'Rasha',\n",
       " 'Saloni',\n",
       " 'Alka',\n",
       " 'Mehrnaz',\n",
       " 'Synthia',\n",
       " 'WinnieRasha',\n",
       " 'Saloni',\n",
       " 'Alka',\n",
       " 'Mehrnaz',\n",
       " 'Synthia',\n",
       " 'WinnieRasha',\n",
       " 'Saloni',\n",
       " 'Alka',\n",
       " 'Mehrnaz',\n",
       " 'Synthia',\n",
       " 'WinnieRasha',\n",
       " 'Saloni',\n",
       " 'Alka',\n",
       " 'Mehrnaz',\n",
       " 'Synthia',\n",
       " 'WinnieRasha',\n",
       " 'Saloni',\n",
       " 'Alka',\n",
       " 'Mehrnaz',\n",
       " 'Synthia',\n",
       " 'WinnieRasha',\n",
       " 'Saloni',\n",
       " 'Alka',\n",
       " 'Mehrnaz',\n",
       " 'Synthia',\n",
       " 'WinnieRasha',\n",
       " 'Saloni',\n",
       " 'Alka',\n",
       " 'Mehrnaz',\n",
       " 'Synthia',\n",
       " 'WinnieRasha',\n",
       " 'Saloni',\n",
       " 'Alka',\n",
       " 'Mehrnaz',\n",
       " 'Synthia',\n",
       " 'WinnieRasha',\n",
       " 'Saloni',\n",
       " 'Alka',\n",
       " 'Mehrnaz',\n",
       " 'Synthia',\n",
       " 'Winnie',\n",
       " 'Sarah',\n",
       " 'Sarah']"
      ]
     },
     "execution_count": 22,
     "metadata": {},
     "output_type": "execute_result"
    }
   ],
   "source": [
    "#Q9 Add \"Bashir\" to your list\n",
    "pps_L + [\"Bashir\"]\n",
    "pps_L"
   ]
  },
  {
   "cell_type": "code",
   "execution_count": 23,
   "metadata": {},
   "outputs": [
    {
     "data": {
      "text/plain": [
       "52"
      ]
     },
     "execution_count": 23,
     "metadata": {},
     "output_type": "execute_result"
    }
   ],
   "source": [
    "#Q10 Find the index of the element \"Sarah\" in the list\n",
    "pps_L.index(\"Sarah\")"
   ]
  },
  {
   "cell_type": "code",
   "execution_count": 24,
   "metadata": {},
   "outputs": [
    {
     "data": {
      "text/plain": [
       "['Rasha',\n",
       " 'Saloni',\n",
       " 'Alka',\n",
       " 'Mehrnaz',\n",
       " 'Synthia',\n",
       " 'Winnie',\n",
       " 'Rasha',\n",
       " 'Saloni',\n",
       " 'Alka',\n",
       " 'Mehrnaz',\n",
       " 'Synthia',\n",
       " 'WinnieRasha',\n",
       " 'Saloni',\n",
       " 'Alka',\n",
       " 'Mehrnaz',\n",
       " 'Synthia',\n",
       " 'WinnieRasha',\n",
       " 'Saloni',\n",
       " 'Alka',\n",
       " 'Mehrnaz',\n",
       " 'Synthia',\n",
       " 'WinnieRasha',\n",
       " 'Saloni',\n",
       " 'Alka',\n",
       " 'Mehrnaz',\n",
       " 'Synthia',\n",
       " 'WinnieRasha',\n",
       " 'Saloni',\n",
       " 'Alka',\n",
       " 'Mehrnaz',\n",
       " 'Synthia',\n",
       " 'WinnieRasha',\n",
       " 'Saloni',\n",
       " 'Alka',\n",
       " 'Mehrnaz',\n",
       " 'Synthia',\n",
       " 'WinnieRasha',\n",
       " 'Saloni',\n",
       " 'Alka',\n",
       " 'Mehrnaz',\n",
       " 'Synthia',\n",
       " 'WinnieRasha',\n",
       " 'Saloni',\n",
       " 'Alka',\n",
       " 'Mehrnaz',\n",
       " 'Synthia',\n",
       " 'WinnieRasha',\n",
       " 'Saloni',\n",
       " 'Alka',\n",
       " 'Mehrnaz',\n",
       " 'Synthia',\n",
       " 'Winnie',\n",
       " 'Instructor',\n",
       " 'Sarah']"
      ]
     },
     "execution_count": 24,
     "metadata": {},
     "output_type": "execute_result"
    }
   ],
   "source": [
    "#Q11 Change the value of the index in Q10 from \"Sarah\" to \"Instructor\"\n",
    "pps_L[52]=\"Instructor\"\n",
    "pps_L"
   ]
  },
  {
   "cell_type": "code",
   "execution_count": 27,
   "metadata": {},
   "outputs": [
    {
     "data": {
      "text/plain": [
       "54"
      ]
     },
     "execution_count": 27,
     "metadata": {},
     "output_type": "execute_result"
    }
   ],
   "source": [
    "#Q12 Find the index of the element \"Bashir\" in the list\n",
    "pps_L= pps_L + [\"Bashir\"]\n",
    "pps_L.index(\"Bashir\")"
   ]
  },
  {
   "cell_type": "code",
   "execution_count": 29,
   "metadata": {},
   "outputs": [
    {
     "data": {
      "text/plain": [
       "['Rasha',\n",
       " 'Saloni',\n",
       " 'Alka',\n",
       " 'Mehrnaz',\n",
       " 'Synthia',\n",
       " 'Winnie',\n",
       " 'Rasha',\n",
       " 'Saloni',\n",
       " 'Alka',\n",
       " 'Mehrnaz',\n",
       " 'Synthia',\n",
       " 'WinnieRasha',\n",
       " 'Saloni',\n",
       " 'Alka',\n",
       " 'Mehrnaz',\n",
       " 'Synthia',\n",
       " 'WinnieRasha',\n",
       " 'Saloni',\n",
       " 'Alka',\n",
       " 'Mehrnaz',\n",
       " 'Synthia',\n",
       " 'WinnieRasha',\n",
       " 'Saloni',\n",
       " 'Alka',\n",
       " 'Mehrnaz',\n",
       " 'Synthia',\n",
       " 'WinnieRasha',\n",
       " 'Saloni',\n",
       " 'Alka',\n",
       " 'Mehrnaz',\n",
       " 'Synthia',\n",
       " 'WinnieRasha',\n",
       " 'Saloni',\n",
       " 'Alka',\n",
       " 'Mehrnaz',\n",
       " 'Synthia',\n",
       " 'WinnieRasha',\n",
       " 'Saloni',\n",
       " 'Alka',\n",
       " 'Mehrnaz',\n",
       " 'Synthia',\n",
       " 'WinnieRasha',\n",
       " 'Saloni',\n",
       " 'Alka',\n",
       " 'Mehrnaz',\n",
       " 'Synthia',\n",
       " 'WinnieRasha',\n",
       " 'Saloni',\n",
       " 'Alka',\n",
       " 'Mehrnaz',\n",
       " 'Synthia',\n",
       " 'Winnie',\n",
       " 'Instructor',\n",
       " 'Sarah',\n",
       " 'Peer-Mentor']"
      ]
     },
     "execution_count": 29,
     "metadata": {},
     "output_type": "execute_result"
    }
   ],
   "source": [
    "#Q13 Change the value of the index in Q12 from \"Bashir\" to \"Peer-Mentor\"\n",
    "pps_L[54]=(\"Peer-Mentor\")\n",
    "pps_L"
   ]
  },
  {
   "cell_type": "code",
   "execution_count": 31,
   "metadata": {},
   "outputs": [
    {
     "data": {
      "text/plain": [
       "['Alka',\n",
       " 'Alka',\n",
       " 'Alka',\n",
       " 'Alka',\n",
       " 'Alka',\n",
       " 'Alka',\n",
       " 'Alka',\n",
       " 'Alka',\n",
       " 'Alka',\n",
       " 'Alka',\n",
       " 'Instructor',\n",
       " 'Mehrnaz',\n",
       " 'Mehrnaz',\n",
       " 'Mehrnaz',\n",
       " 'Mehrnaz',\n",
       " 'Mehrnaz',\n",
       " 'Mehrnaz',\n",
       " 'Mehrnaz',\n",
       " 'Mehrnaz',\n",
       " 'Mehrnaz',\n",
       " 'Mehrnaz',\n",
       " 'Peer-Mentor',\n",
       " 'Rasha',\n",
       " 'Rasha',\n",
       " 'Saloni',\n",
       " 'Saloni',\n",
       " 'Saloni',\n",
       " 'Saloni',\n",
       " 'Saloni',\n",
       " 'Saloni',\n",
       " 'Saloni',\n",
       " 'Saloni',\n",
       " 'Saloni',\n",
       " 'Saloni',\n",
       " 'Sarah',\n",
       " 'Synthia',\n",
       " 'Synthia',\n",
       " 'Synthia',\n",
       " 'Synthia',\n",
       " 'Synthia',\n",
       " 'Synthia',\n",
       " 'Synthia',\n",
       " 'Synthia',\n",
       " 'Synthia',\n",
       " 'Synthia',\n",
       " 'Winnie',\n",
       " 'Winnie',\n",
       " 'WinnieRasha',\n",
       " 'WinnieRasha',\n",
       " 'WinnieRasha',\n",
       " 'WinnieRasha',\n",
       " 'WinnieRasha',\n",
       " 'WinnieRasha',\n",
       " 'WinnieRasha',\n",
       " 'WinnieRasha']"
      ]
     },
     "execution_count": 31,
     "metadata": {},
     "output_type": "execute_result"
    }
   ],
   "source": [
    "pps_L.sort()\n",
    "pps_L"
   ]
  },
  {
   "cell_type": "code",
   "execution_count": null,
   "metadata": {},
   "outputs": [],
   "source": []
  }
 ],
 "metadata": {
  "kernelspec": {
   "display_name": "Python 3",
   "language": "python",
   "name": "python3"
  },
  "language_info": {
   "codemirror_mode": {
    "name": "ipython",
    "version": 3
   },
   "file_extension": ".py",
   "mimetype": "text/x-python",
   "name": "python",
   "nbconvert_exporter": "python",
   "pygments_lexer": "ipython3",
   "version": "3.8.5"
  }
 },
 "nbformat": 4,
 "nbformat_minor": 4
}
